{
 "cells": [
  {
   "cell_type": "markdown",
   "metadata": {
    "id": "c570yS2QVNNJ"
   },
   "source": [
    "## Deep Learning Applied to Images - Fine-tuning\n",
    "\n",
    "#### Prof. Thomas da Silva Paula"
   ]
  },
  {
   "cell_type": "markdown",
   "metadata": {
    "id": "vAMvQN7fVRRa"
   },
   "source": [
    "### Fine-tuning example\n",
    "\n",
    "* Using Keras\n",
    "* Using MobileNet\n",
    "* Using subset of the natural images dataset (https://www.kaggle.com/prasunroy/natural-images)"
   ]
  },
  {
   "cell_type": "markdown",
   "metadata": {
    "id": "1f_MxMlCVgYr"
   },
   "source": [
    "### Mount your drive and upload the dataset"
   ]
  },
  {
   "cell_type": "code",
   "execution_count": 1,
   "metadata": {
    "colab": {
     "base_uri": "https://localhost:8080/"
    },
    "executionInfo": {
     "elapsed": 35498,
     "status": "ok",
     "timestamp": 1606178246304,
     "user": {
      "displayName": "Thomas da Silva Paula",
      "photoUrl": "https://lh3.googleusercontent.com/a-/AOh14Ghxdf5DCOozG7kNrIhME3slMTZxcBmU6l6RjxNVsg=s64",
      "userId": "04301567501049617182"
     },
     "user_tz": 180
    },
    "id": "eYaoz5FrVK_T",
    "outputId": "0007a0d3-fb59-4cbe-f04e-81d6b5f70669"
   },
   "outputs": [
    {
     "name": "stdout",
     "output_type": "stream",
     "text": [
      "Mounted at /content/gdrive\n"
     ]
    }
   ],
   "source": [
    "from google.colab import drive\n",
    "drive.mount('/content/gdrive')"
   ]
  },
  {
   "cell_type": "code",
   "execution_count": 2,
   "metadata": {
    "colab": {
     "base_uri": "https://localhost:8080/"
    },
    "executionInfo": {
     "elapsed": 36453,
     "status": "ok",
     "timestamp": 1606178247285,
     "user": {
      "displayName": "Thomas da Silva Paula",
      "photoUrl": "https://lh3.googleusercontent.com/a-/AOh14Ghxdf5DCOozG7kNrIhME3slMTZxcBmU6l6RjxNVsg=s64",
      "userId": "04301567501049617182"
     },
     "user_tz": 180
    },
    "id": "x2Qo8MwAV74i",
    "outputId": "48c4e092-39d4-4ae4-eef6-3b07fb79b49d"
   },
   "outputs": [
    {
     "name": "stdout",
     "output_type": "stream",
     "text": [
      "total 32K\n",
      "drwx------ 2 root root 4.0K Oct 20 00:54 airplane\n",
      "drwx------ 2 root root 4.0K Oct 20 00:54 car\n",
      "drwx------ 2 root root 4.0K Oct 20 00:54 cat\n",
      "drwx------ 2 root root 4.0K Oct 20 00:54 dog\n",
      "drwx------ 2 root root 4.0K Oct 20 00:54 flower\n",
      "drwx------ 2 root root 4.0K Oct 20 00:54 fruit\n",
      "drwx------ 2 root root 4.0K Oct 20 00:54 motorbike\n",
      "drwx------ 2 root root 4.0K Oct 20 00:54 person\n"
     ]
    }
   ],
   "source": [
    "! ls -lh /content/gdrive/My\\ Drive/Datasets/natural_images_100"
   ]
  },
  {
   "cell_type": "markdown",
   "metadata": {
    "id": "PmUfJlFrVleR"
   },
   "source": [
    "### Imports"
   ]
  },
  {
   "cell_type": "code",
   "execution_count": 3,
   "metadata": {
    "executionInfo": {
     "elapsed": 5016,
     "status": "ok",
     "timestamp": 1606178254731,
     "user": {
      "displayName": "Thomas da Silva Paula",
      "photoUrl": "https://lh3.googleusercontent.com/a-/AOh14Ghxdf5DCOozG7kNrIhME3slMTZxcBmU6l6RjxNVsg=s64",
      "userId": "04301567501049617182"
     },
     "user_tz": 180
    },
    "id": "N48__PYKVkI-"
   },
   "outputs": [],
   "source": [
    "import os\n",
    "import cv2\n",
    "import numpy as np\n",
    "import pandas as pd\n",
    "import seaborn as sns\n",
    "import matplotlib.pyplot as plt\n",
    "\n",
    "from tqdm import *\n",
    "\n",
    "from sklearn.metrics import confusion_matrix\n",
    "from sklearn.metrics import classification_report\n",
    "from sklearn.preprocessing import LabelEncoder\n",
    "from sklearn.model_selection import train_test_split\n",
    "\n",
    "from tensorflow.keras.models import Model\n",
    "from tensorflow.keras.layers import Conv2D\n",
    "from tensorflow.keras.layers import Dropout\n",
    "from tensorflow.keras.layers import Reshape\n",
    "from tensorflow.keras.layers import Activation\n",
    "from tensorflow.keras.layers import GlobalAveragePooling2D\n",
    "from tensorflow.keras.applications.mobilenet import MobileNet\n",
    "from tensorflow.keras.applications.mobilenet import preprocess_input\n",
    "\n",
    "from tensorflow.keras.preprocessing import image\n",
    "from tensorflow.keras.utils import to_categorical"
   ]
  },
  {
   "cell_type": "markdown",
   "metadata": {
    "id": "sPZm7WZGWFPq"
   },
   "source": [
    "### Exploring the dataset\n"
   ]
  },
  {
   "cell_type": "code",
   "execution_count": 4,
   "metadata": {
    "executionInfo": {
     "elapsed": 3443,
     "status": "ok",
     "timestamp": 1606178254734,
     "user": {
      "displayName": "Thomas da Silva Paula",
      "photoUrl": "https://lh3.googleusercontent.com/a-/AOh14Ghxdf5DCOozG7kNrIhME3slMTZxcBmU6l6RjxNVsg=s64",
      "userId": "04301567501049617182"
     },
     "user_tz": 180
    },
    "id": "yeWooIeAVfx-"
   },
   "outputs": [],
   "source": [
    "def create_data_list(path):\n",
    "    files = []\n",
    "    labels = []\n",
    "  \n",
    "    for f in tqdm(os.listdir(path)):\n",
    "        f_path = os.path.join(path, f)\n",
    "\n",
    "        for i in os.listdir(f_path):\n",
    "            i_path = os.path.join(f_path, i)\n",
    "      \n",
    "            files.append(i_path)\n",
    "            labels.append(f)\n",
    "      \n",
    "    return files, labels"
   ]
  },
  {
   "cell_type": "code",
   "execution_count": 5,
   "metadata": {
    "colab": {
     "base_uri": "https://localhost:8080/"
    },
    "executionInfo": {
     "elapsed": 1981,
     "status": "ok",
     "timestamp": 1606178256724,
     "user": {
      "displayName": "Thomas da Silva Paula",
      "photoUrl": "https://lh3.googleusercontent.com/a-/AOh14Ghxdf5DCOozG7kNrIhME3slMTZxcBmU6l6RjxNVsg=s64",
      "userId": "04301567501049617182"
     },
     "user_tz": 180
    },
    "id": "CDdwif4FV67V",
    "outputId": "78627acc-408d-4e60-e70c-4a890f1a35eb"
   },
   "outputs": [
    {
     "name": "stderr",
     "output_type": "stream",
     "text": [
      "100%|██████████| 8/8 [00:00<00:00, 502.33it/s]\n"
     ]
    }
   ],
   "source": [
    "data_path = '/content/gdrive/My Drive/Datasets/natural_images_100'\n",
    "files, labels = create_data_list(data_path)"
   ]
  },
  {
   "cell_type": "code",
   "execution_count": 6,
   "metadata": {
    "colab": {
     "base_uri": "https://localhost:8080/"
    },
    "executionInfo": {
     "elapsed": 1974,
     "status": "ok",
     "timestamp": 1606178256724,
     "user": {
      "displayName": "Thomas da Silva Paula",
      "photoUrl": "https://lh3.googleusercontent.com/a-/AOh14Ghxdf5DCOozG7kNrIhME3slMTZxcBmU6l6RjxNVsg=s64",
      "userId": "04301567501049617182"
     },
     "user_tz": 180
    },
    "id": "31G2Ym7YYQW_",
    "outputId": "978ab51a-14b1-4820-ab94-0b32d59a75f9"
   },
   "outputs": [
    {
     "name": "stdout",
     "output_type": "stream",
     "text": [
      "Total images  800 800\n"
     ]
    }
   ],
   "source": [
    "print('Total images ', len(files), len(labels))"
   ]
  },
  {
   "cell_type": "code",
   "execution_count": 7,
   "metadata": {
    "colab": {
     "base_uri": "https://localhost:8080/"
    },
    "executionInfo": {
     "elapsed": 1933,
     "status": "ok",
     "timestamp": 1606178257524,
     "user": {
      "displayName": "Thomas da Silva Paula",
      "photoUrl": "https://lh3.googleusercontent.com/a-/AOh14Ghxdf5DCOozG7kNrIhME3slMTZxcBmU6l6RjxNVsg=s64",
      "userId": "04301567501049617182"
     },
     "user_tz": 180
    },
    "id": "ZIHqpZ1FZkIn",
    "outputId": "3d777f7a-0620-473e-9d48-369d9fa950b0"
   },
   "outputs": [
    {
     "name": "stdout",
     "output_type": "stream",
     "text": [
      "['airplane' 'car' 'cat' 'dog' 'flower' 'fruit' 'motorbike' 'person']\n"
     ]
    }
   ],
   "source": [
    "print(np.unique(labels))"
   ]
  },
  {
   "cell_type": "code",
   "execution_count": 8,
   "metadata": {
    "colab": {
     "base_uri": "https://localhost:8080/",
     "height": 199
    },
    "executionInfo": {
     "elapsed": 2510,
     "status": "ok",
     "timestamp": 1606178259073,
     "user": {
      "displayName": "Thomas da Silva Paula",
      "photoUrl": "https://lh3.googleusercontent.com/a-/AOh14Ghxdf5DCOozG7kNrIhME3slMTZxcBmU6l6RjxNVsg=s64",
      "userId": "04301567501049617182"
     },
     "user_tz": 180
    },
    "id": "qZH0d5z_Ztmc",
    "outputId": "e2271757-9516-4977-ab41-905296f614de"
   },
   "outputs": [
    {
     "data": {
      "text/plain": [
       "<matplotlib.image.AxesImage at 0x7fd3b46e0898>"
      ]
     },
     "execution_count": 8,
     "metadata": {
      "tags": []
     },
     "output_type": "execute_result"
    },
    {
     "data": {
      "image/png": "[encoded data removed]",
      "text/plain": [
       "<Figure size 432x288 with 1 Axes>"
      ]
     },
     "metadata": {
      "needs_background": "light",
      "tags": []
     },
     "output_type": "display_data"
    }
   ],
   "source": [
    "idx = 33\n",
    "img_path = files[idx]\n",
    "label = labels[idx]\n",
    "\n",
    "img = cv2.imread(img_path)\n",
    "img = cv2.cvtColor(img, cv2.COLOR_BGR2RGB)\n",
    "plt.title(label)\n",
    "plt.imshow(img)"
   ]
  },
  {
   "cell_type": "markdown",
   "metadata": {
    "id": "Gu5crDJdav2P"
   },
   "source": [
    "### Preparing the data"
   ]
  },
  {
   "cell_type": "code",
   "execution_count": 9,
   "metadata": {
    "executionInfo": {
     "elapsed": 1131,
     "status": "ok",
     "timestamp": 1606178259486,
     "user": {
      "displayName": "Thomas da Silva Paula",
      "photoUrl": "https://lh3.googleusercontent.com/a-/AOh14Ghxdf5DCOozG7kNrIhME3slMTZxcBmU6l6RjxNVsg=s64",
      "userId": "04301567501049617182"
     },
     "user_tz": 180
    },
    "id": "97LjTJCfavS0"
   },
   "outputs": [],
   "source": [
    "def preprocess_data(images, labels):\n",
    "  \n",
    "    X = []\n",
    "    y = []\n",
    "\n",
    "    for img_path, l in tqdm(zip(images, labels)):\n",
    "        img = image.load_img(img_path, target_size=(224, 224))\n",
    "        img = image.img_to_array(img)\n",
    "        img = preprocess_input(img)\n",
    "\n",
    "        X.append(img)\n",
    "        y.append(l)\n",
    "\n",
    "    return np.asarray(X), np.asarray(y)"
   ]
  },
  {
   "cell_type": "code",
   "execution_count": 10,
   "metadata": {
    "colab": {
     "base_uri": "https://localhost:8080/"
    },
    "executionInfo": {
     "elapsed": 214491,
     "status": "ok",
     "timestamp": 1606178474261,
     "user": {
      "displayName": "Thomas da Silva Paula",
      "photoUrl": "https://lh3.googleusercontent.com/a-/AOh14Ghxdf5DCOozG7kNrIhME3slMTZxcBmU6l6RjxNVsg=s64",
      "userId": "04301567501049617182"
     },
     "user_tz": 180
    },
    "id": "vq7ddyUDZhGw",
    "outputId": "baa3d975-5d09-4301-dd7d-7ee4fff50933"
   },
   "outputs": [
    {
     "name": "stderr",
     "output_type": "stream",
     "text": [
      "800it [03:33,  3.76it/s]\n"
     ]
    }
   ],
   "source": [
    "X, y = preprocess_data(files, labels)"
   ]
  },
  {
   "cell_type": "code",
   "execution_count": 11,
   "metadata": {
    "executionInfo": {
     "elapsed": 928,
     "status": "ok",
     "timestamp": 1606178475237,
     "user": {
      "displayName": "Thomas da Silva Paula",
      "photoUrl": "https://lh3.googleusercontent.com/a-/AOh14Ghxdf5DCOozG7kNrIhME3slMTZxcBmU6l6RjxNVsg=s64",
      "userId": "04301567501049617182"
     },
     "user_tz": 180
    },
    "id": "gl45KDpjVgi7"
   },
   "outputs": [],
   "source": [
    "X_train, X_test, y_train, y_test = train_test_split(X, y, test_size=0.30, random_state=42)"
   ]
  },
  {
   "cell_type": "code",
   "execution_count": 12,
   "metadata": {
    "colab": {
     "base_uri": "https://localhost:8080/"
    },
    "executionInfo": {
     "elapsed": 916,
     "status": "ok",
     "timestamp": 1606178475239,
     "user": {
      "displayName": "Thomas da Silva Paula",
      "photoUrl": "https://lh3.googleusercontent.com/a-/AOh14Ghxdf5DCOozG7kNrIhME3slMTZxcBmU6l6RjxNVsg=s64",
      "userId": "04301567501049617182"
     },
     "user_tz": 180
    },
    "id": "A3rME51FbHao",
    "outputId": "b60626e4-0493-455f-e8b2-5c8c6588edbe"
   },
   "outputs": [
    {
     "name": "stdout",
     "output_type": "stream",
     "text": [
      "Train: (560, 224, 224, 3) (560,)\n",
      "Test: (240, 224, 224, 3) (240,)\n"
     ]
    }
   ],
   "source": [
    "print('Train:', X_train.shape, y_train.shape)\n",
    "print('Test:', X_test.shape, y_test.shape)"
   ]
  },
  {
   "cell_type": "markdown",
   "metadata": {
    "id": "HlVhbYsdXrg7"
   },
   "source": [
    "### Converting labels to integers\n"
   ]
  },
  {
   "cell_type": "code",
   "execution_count": 13,
   "metadata": {
    "colab": {
     "base_uri": "https://localhost:8080/"
    },
    "executionInfo": {
     "elapsed": 910,
     "status": "ok",
     "timestamp": 1606178475240,
     "user": {
      "displayName": "Thomas da Silva Paula",
      "photoUrl": "https://lh3.googleusercontent.com/a-/AOh14Ghxdf5DCOozG7kNrIhME3slMTZxcBmU6l6RjxNVsg=s64",
      "userId": "04301567501049617182"
     },
     "user_tz": 180
    },
    "id": "PDi1ZNpbXT20",
    "outputId": "54f8aa19-e589-4d7e-f65b-32a44de0543a"
   },
   "outputs": [
    {
     "data": {
      "text/plain": [
       "LabelEncoder()"
      ]
     },
     "execution_count": 13,
     "metadata": {
      "tags": []
     },
     "output_type": "execute_result"
    }
   ],
   "source": [
    "le = LabelEncoder()\n",
    "le.fit(y_train)"
   ]
  },
  {
   "cell_type": "code",
   "execution_count": 14,
   "metadata": {
    "colab": {
     "base_uri": "https://localhost:8080/"
    },
    "executionInfo": {
     "elapsed": 902,
     "status": "ok",
     "timestamp": 1606178475240,
     "user": {
      "displayName": "Thomas da Silva Paula",
      "photoUrl": "https://lh3.googleusercontent.com/a-/AOh14Ghxdf5DCOozG7kNrIhME3slMTZxcBmU6l6RjxNVsg=s64",
      "userId": "04301567501049617182"
     },
     "user_tz": 180
    },
    "id": "PFWSR3INXqHU",
    "outputId": "53b10619-d1e1-462d-bfb5-6e10d119733d"
   },
   "outputs": [
    {
     "name": "stdout",
     "output_type": "stream",
     "text": [
      "Train: (560,)\n",
      "Test: (240,)\n"
     ]
    }
   ],
   "source": [
    "y_train = le.transform(y_train)\n",
    "y_test = le.transform(y_test)\n",
    "\n",
    "print('Train:', y_train.shape)\n",
    "print('Test:', y_test.shape)"
   ]
  },
  {
   "cell_type": "code",
   "execution_count": 15,
   "metadata": {
    "colab": {
     "base_uri": "https://localhost:8080/"
    },
    "executionInfo": {
     "elapsed": 896,
     "status": "ok",
     "timestamp": 1606178475240,
     "user": {
      "displayName": "Thomas da Silva Paula",
      "photoUrl": "https://lh3.googleusercontent.com/a-/AOh14Ghxdf5DCOozG7kNrIhME3slMTZxcBmU6l6RjxNVsg=s64",
      "userId": "04301567501049617182"
     },
     "user_tz": 180
    },
    "id": "AZna-4e9XxZ4",
    "outputId": "2232dda3-b6ed-4418-92f8-faeb38b52ba7"
   },
   "outputs": [
    {
     "data": {
      "text/plain": [
       "1"
      ]
     },
     "execution_count": 15,
     "metadata": {
      "tags": []
     },
     "output_type": "execute_result"
    }
   ],
   "source": [
    "y_train[0]"
   ]
  },
  {
   "cell_type": "markdown",
   "metadata": {
    "id": "4YCInh8mbLXD"
   },
   "source": [
    "### Converting integers to one-hot encoding"
   ]
  },
  {
   "cell_type": "code",
   "execution_count": 16,
   "metadata": {
    "colab": {
     "base_uri": "https://localhost:8080/"
    },
    "executionInfo": {
     "elapsed": 671,
     "status": "ok",
     "timestamp": 1606178475927,
     "user": {
      "displayName": "Thomas da Silva Paula",
      "photoUrl": "https://lh3.googleusercontent.com/a-/AOh14Ghxdf5DCOozG7kNrIhME3slMTZxcBmU6l6RjxNVsg=s64",
      "userId": "04301567501049617182"
     },
     "user_tz": 180
    },
    "id": "PhEQskqnbJ1W",
    "outputId": "c6f8a6da-c16d-433c-a252-35d00a1b2cab"
   },
   "outputs": [
    {
     "name": "stdout",
     "output_type": "stream",
     "text": [
      "Train: (560, 8)\n",
      "Test: (240, 8)\n"
     ]
    }
   ],
   "source": [
    "y_train = to_categorical(y_train)\n",
    "y_test = to_categorical(y_test)\n",
    "\n",
    "print('Train:', y_train.shape)\n",
    "print('Test:', y_test.shape)"
   ]
  },
  {
   "cell_type": "code",
   "execution_count": 17,
   "metadata": {
    "colab": {
     "base_uri": "https://localhost:8080/"
    },
    "executionInfo": {
     "elapsed": 665,
     "status": "ok",
     "timestamp": 1606178475928,
     "user": {
      "displayName": "Thomas da Silva Paula",
      "photoUrl": "https://lh3.googleusercontent.com/a-/AOh14Ghxdf5DCOozG7kNrIhME3slMTZxcBmU6l6RjxNVsg=s64",
      "userId": "04301567501049617182"
     },
     "user_tz": 180
    },
    "id": "Wtiod6kEbQk8",
    "outputId": "7f4ab21e-6082-4eeb-f13f-a69ea56a8eca"
   },
   "outputs": [
    {
     "data": {
      "text/plain": [
       "array([0., 1., 0., 0., 0., 0., 0., 0.], dtype=float32)"
      ]
     },
     "execution_count": 17,
     "metadata": {
      "tags": []
     },
     "output_type": "execute_result"
    }
   ],
   "source": [
    "y_train[0]"
   ]
  },
  {
   "cell_type": "markdown",
   "metadata": {
    "id": "R-KMIErDb8AR"
   },
   "source": [
    "### Saving data to disk"
   ]
  },
  {
   "cell_type": "code",
   "execution_count": 18,
   "metadata": {
    "executionInfo": {
     "elapsed": 1018,
     "status": "ok",
     "timestamp": 1606178476947,
     "user": {
      "displayName": "Thomas da Silva Paula",
      "photoUrl": "https://lh3.googleusercontent.com/a-/AOh14Ghxdf5DCOozG7kNrIhME3slMTZxcBmU6l6RjxNVsg=s64",
      "userId": "04301567501049617182"
     },
     "user_tz": 180
    },
    "id": "coVg3mUFX7i3"
   },
   "outputs": [],
   "source": [
    "dataset_path = '/content/gdrive/My Drive/Datasets/'"
   ]
  },
  {
   "cell_type": "code",
   "execution_count": 19,
   "metadata": {
    "executionInfo": {
     "elapsed": 4791,
     "status": "ok",
     "timestamp": 1606178481754,
     "user": {
      "displayName": "Thomas da Silva Paula",
      "photoUrl": "https://lh3.googleusercontent.com/a-/AOh14Ghxdf5DCOozG7kNrIhME3slMTZxcBmU6l6RjxNVsg=s64",
      "userId": "04301567501049617182"
     },
     "user_tz": 180
    },
    "id": "u2pxx2zxbnQ9"
   },
   "outputs": [],
   "source": [
    "with open(os.path.join(dataset_path, 'X_train.npy'), 'wb') as f:\n",
    "    np.save(f, X_train)"
   ]
  },
  {
   "cell_type": "code",
   "execution_count": 20,
   "metadata": {
    "executionInfo": {
     "elapsed": 2806,
     "status": "ok",
     "timestamp": 1606178484568,
     "user": {
      "displayName": "Thomas da Silva Paula",
      "photoUrl": "https://lh3.googleusercontent.com/a-/AOh14Ghxdf5DCOozG7kNrIhME3slMTZxcBmU6l6RjxNVsg=s64",
      "userId": "04301567501049617182"
     },
     "user_tz": 180
    },
    "id": "cYghdv8WcCdW"
   },
   "outputs": [],
   "source": [
    "with open(os.path.join(dataset_path, 'X_test.npy'), 'wb') as f:\n",
    "    np.save(f, X_test)"
   ]
  },
  {
   "cell_type": "code",
   "execution_count": 21,
   "metadata": {
    "executionInfo": {
     "elapsed": 1240,
     "status": "ok",
     "timestamp": 1606178485817,
     "user": {
      "displayName": "Thomas da Silva Paula",
      "photoUrl": "https://lh3.googleusercontent.com/a-/AOh14Ghxdf5DCOozG7kNrIhME3slMTZxcBmU6l6RjxNVsg=s64",
      "userId": "04301567501049617182"
     },
     "user_tz": 180
    },
    "id": "tNKk6g4rcEad"
   },
   "outputs": [],
   "source": [
    "with open(os.path.join(dataset_path, 'y_train.npy'), 'wb') as f:\n",
    "    np.save(f, y_train)"
   ]
  },
  {
   "cell_type": "code",
   "execution_count": 22,
   "metadata": {
    "executionInfo": {
     "elapsed": 1821,
     "status": "ok",
     "timestamp": 1606178486400,
     "user": {
      "displayName": "Thomas da Silva Paula",
      "photoUrl": "https://lh3.googleusercontent.com/a-/AOh14Ghxdf5DCOozG7kNrIhME3slMTZxcBmU6l6RjxNVsg=s64",
      "userId": "04301567501049617182"
     },
     "user_tz": 180
    },
    "id": "vnQsx97ScHsR"
   },
   "outputs": [],
   "source": [
    "with open(os.path.join(dataset_path, 'y_test.npy'), 'wb') as f:\n",
    "    np.save(f, y_test)"
   ]
  },
  {
   "cell_type": "markdown",
   "metadata": {
    "id": "Cu0K6FMtcdFU"
   },
   "source": [
    "### Reading from disk"
   ]
  },
  {
   "cell_type": "code",
   "execution_count": 23,
   "metadata": {
    "colab": {
     "base_uri": "https://localhost:8080/"
    },
    "executionInfo": {
     "elapsed": 1216,
     "status": "ok",
     "timestamp": 1606178487617,
     "user": {
      "displayName": "Thomas da Silva Paula",
      "photoUrl": "https://lh3.googleusercontent.com/a-/AOh14Ghxdf5DCOozG7kNrIhME3slMTZxcBmU6l6RjxNVsg=s64",
      "userId": "04301567501049617182"
     },
     "user_tz": 180
    },
    "id": "LRZdM-s_ccih",
    "outputId": "70f53203-5ef3-4c19-83e6-efda7d471036"
   },
   "outputs": [
    {
     "name": "stdout",
     "output_type": "stream",
     "text": [
      "(560, 224, 224, 3)\n"
     ]
    }
   ],
   "source": [
    "with open(os.path.join(dataset_path, 'X_train.npy'), 'rb') as f:\n",
    "    X_train = np.load(f)\n",
    "    \n",
    "print(X_train.shape)"
   ]
  },
  {
   "cell_type": "code",
   "execution_count": 25,
   "metadata": {
    "colab": {
     "base_uri": "https://localhost:8080/"
    },
    "executionInfo": {
     "elapsed": 881,
     "status": "ok",
     "timestamp": 1606178586027,
     "user": {
      "displayName": "Thomas da Silva Paula",
      "photoUrl": "https://lh3.googleusercontent.com/a-/AOh14Ghxdf5DCOozG7kNrIhME3slMTZxcBmU6l6RjxNVsg=s64",
      "userId": "04301567501049617182"
     },
     "user_tz": 180
    },
    "id": "A8Uxcy8Fcl-S",
    "outputId": "de178405-cd73-430c-bdb5-0e8f4f6d7426"
   },
   "outputs": [
    {
     "name": "stdout",
     "output_type": "stream",
     "text": [
      "(240, 224, 224, 3)\n"
     ]
    }
   ],
   "source": [
    "with open(os.path.join(dataset_path, 'X_test.npy'), 'rb') as f:\n",
    "    X_test = np.load(f)\n",
    "    \n",
    "print(X_test.shape)"
   ]
  },
  {
   "cell_type": "code",
   "execution_count": 26,
   "metadata": {
    "colab": {
     "base_uri": "https://localhost:8080/"
    },
    "executionInfo": {
     "elapsed": 798,
     "status": "ok",
     "timestamp": 1606178589485,
     "user": {
      "displayName": "Thomas da Silva Paula",
      "photoUrl": "https://lh3.googleusercontent.com/a-/AOh14Ghxdf5DCOozG7kNrIhME3slMTZxcBmU6l6RjxNVsg=s64",
      "userId": "04301567501049617182"
     },
     "user_tz": 180
    },
    "id": "STAbDFAXcob3",
    "outputId": "aafeaaa4-7e55-4f0f-b4f6-0a061ed82998"
   },
   "outputs": [
    {
     "name": "stdout",
     "output_type": "stream",
     "text": [
      "(560, 8)\n"
     ]
    }
   ],
   "source": [
    "with open(os.path.join(dataset_path, 'y_train.npy'), 'rb') as f:\n",
    "    y_train = np.load(f)\n",
    "    \n",
    "print(y_train.shape)"
   ]
  },
  {
   "cell_type": "code",
   "execution_count": 27,
   "metadata": {
    "colab": {
     "base_uri": "https://localhost:8080/"
    },
    "executionInfo": {
     "elapsed": 799,
     "status": "ok",
     "timestamp": 1606178595739,
     "user": {
      "displayName": "Thomas da Silva Paula",
      "photoUrl": "https://lh3.googleusercontent.com/a-/AOh14Ghxdf5DCOozG7kNrIhME3slMTZxcBmU6l6RjxNVsg=s64",
      "userId": "04301567501049617182"
     },
     "user_tz": 180
    },
    "id": "pptapzXDcqVT",
    "outputId": "8726d4eb-e233-4f76-d0c5-41b967763ef5"
   },
   "outputs": [
    {
     "name": "stdout",
     "output_type": "stream",
     "text": [
      "(240, 8)\n"
     ]
    }
   ],
   "source": [
    "with open(os.path.join(dataset_path, 'y_test.npy'), 'rb') as f:\n",
    "    y_test = np.load(f)\n",
    "    \n",
    "print(y_test.shape)"
   ]
  },
  {
   "cell_type": "markdown",
   "metadata": {
    "id": "nBAqNbjCcspj"
   },
   "source": [
    "### Creating the model"
   ]
  },
  {
   "cell_type": "code",
   "execution_count": 28,
   "metadata": {
    "colab": {
     "base_uri": "https://localhost:8080/"
    },
    "executionInfo": {
     "elapsed": 7020,
     "status": "ok",
     "timestamp": 1606178610643,
     "user": {
      "displayName": "Thomas da Silva Paula",
      "photoUrl": "https://lh3.googleusercontent.com/a-/AOh14Ghxdf5DCOozG7kNrIhME3slMTZxcBmU6l6RjxNVsg=s64",
      "userId": "04301567501049617182"
     },
     "user_tz": 180
    },
    "id": "J-TeuFugcuBN",
    "outputId": "3ed366d2-2dda-42ad-85c2-dff05f7ff0c7"
   },
   "outputs": [
    {
     "name": "stdout",
     "output_type": "stream",
     "text": [
      "WARNING:tensorflow:`input_shape` is undefined or non-square, or `rows` is not in [128, 160, 192, 224]. Weights for input shape (224, 224) will be loaded as the default.\n",
      "Downloading data from https://storage.googleapis.com/tensorflow/keras-applications/mobilenet/mobilenet_2_5_224_tf_no_top.h5\n",
      "2113536/2108140 [==============================] - 0s 0us/step\n"
     ]
    }
   ],
   "source": [
    "alpha = 0.25\n",
    "dropout = 1e-3\n",
    "num_classes = 8\n",
    "shape = (1, 1, int(1024 * alpha))\n",
    "\n",
    "base_model = MobileNet(alpha=alpha, weights='imagenet', include_top=False, pooling='avg')\n",
    "x = base_model.output\n",
    "x = Reshape(shape, name='reshape_1')(x)\n",
    "x = Dropout(dropout, name='dropout')(x)\n",
    "x = Conv2D(num_classes, (1, 1),\n",
    "                  padding='same',\n",
    "                  name='conv_preds')(x)\n",
    "x = Reshape((num_classes,), name='reshape_2')(x)\n",
    "predictions = Activation('softmax', name='preds')(x)\n",
    "\n",
    "new_model = Model(inputs=base_model.input, outputs=predictions)"
   ]
  },
  {
   "cell_type": "code",
   "execution_count": 29,
   "metadata": {
    "executionInfo": {
     "elapsed": 2685,
     "status": "ok",
     "timestamp": 1606178610643,
     "user": {
      "displayName": "Thomas da Silva Paula",
      "photoUrl": "https://lh3.googleusercontent.com/a-/AOh14Ghxdf5DCOozG7kNrIhME3slMTZxcBmU6l6RjxNVsg=s64",
      "userId": "04301567501049617182"
     },
     "user_tz": 180
    },
    "id": "orkVCP5ncxhK"
   },
   "outputs": [],
   "source": [
    "for layer in base_model.layers:\n",
    "    layer.trainable = False"
   ]
  },
  {
   "cell_type": "code",
   "execution_count": 30,
   "metadata": {
    "executionInfo": {
     "elapsed": 2684,
     "status": "ok",
     "timestamp": 1606178610644,
     "user": {
      "displayName": "Thomas da Silva Paula",
      "photoUrl": "https://lh3.googleusercontent.com/a-/AOh14Ghxdf5DCOozG7kNrIhME3slMTZxcBmU6l6RjxNVsg=s64",
      "userId": "04301567501049617182"
     },
     "user_tz": 180
    },
    "id": "bEUzWPSOcyvR"
   },
   "outputs": [],
   "source": [
    "new_model.compile(optimizer='adam', loss='categorical_crossentropy', metrics=['accuracy'])"
   ]
  },
  {
   "cell_type": "code",
   "execution_count": 31,
   "metadata": {
    "colab": {
     "base_uri": "https://localhost:8080/"
    },
    "executionInfo": {
     "elapsed": 2672,
     "status": "ok",
     "timestamp": 1606178610644,
     "user": {
      "displayName": "Thomas da Silva Paula",
      "photoUrl": "https://lh3.googleusercontent.com/a-/AOh14Ghxdf5DCOozG7kNrIhME3slMTZxcBmU6l6RjxNVsg=s64",
      "userId": "04301567501049617182"
     },
     "user_tz": 180
    },
    "id": "j_jf7Gimczsq",
    "outputId": "dec0581b-6fef-4c73-87b0-25e1574edc32"
   },
   "outputs": [
    {
     "name": "stdout",
     "output_type": "stream",
     "text": [
      "Model: \"functional_1\"\n",
      "_________________________________________________________________\n",
      "Layer (type)                 Output Shape              Param #   \n",
      "=================================================================\n",
      "input_1 (InputLayer)         [(None, None, None, 3)]   0         \n",
      "_________________________________________________________________\n",
      "conv1_pad (ZeroPadding2D)    (None, None, None, 3)     0         \n",
      "_________________________________________________________________\n",
      "conv1 (Conv2D)               (None, None, None, 8)     216       \n",
      "_________________________________________________________________\n",
      "conv1_bn (BatchNormalization (None, None, None, 8)     32        \n",
      "_________________________________________________________________\n",
      "conv1_relu (ReLU)            (None, None, None, 8)     0         \n",
      "_________________________________________________________________\n",
      "conv_dw_1 (DepthwiseConv2D)  (None, None, None, 8)     72        \n",
      "_________________________________________________________________\n",
      "conv_dw_1_bn (BatchNormaliza (None, None, None, 8)     32        \n",
      "_________________________________________________________________\n",
      "conv_dw_1_relu (ReLU)        (None, None, None, 8)     0         \n",
      "_________________________________________________________________\n",
      "conv_pw_1 (Conv2D)           (None, None, None, 16)    128       \n",
      "_________________________________________________________________\n",
      "conv_pw_1_bn (BatchNormaliza (None, None, None, 16)    64        \n",
      "_________________________________________________________________\n",
      "conv_pw_1_relu (ReLU)        (None, None, None, 16)    0         \n",
      "_________________________________________________________________\n",
      "conv_pad_2 (ZeroPadding2D)   (None, None, None, 16)    0         \n",
      "_________________________________________________________________\n",
      "conv_dw_2 (DepthwiseConv2D)  (None, None, None, 16)    144       \n",
      "_________________________________________________________________\n",
      "conv_dw_2_bn (BatchNormaliza (None, None, None, 16)    64        \n",
      "_________________________________________________________________\n",
      "conv_dw_2_relu (ReLU)        (None, None, None, 16)    0         \n",
      "_________________________________________________________________\n",
      "conv_pw_2 (Conv2D)           (None, None, None, 32)    512       \n",
      "_________________________________________________________________\n",
      "conv_pw_2_bn (BatchNormaliza (None, None, None, 32)    128       \n",
      "_________________________________________________________________\n",
      "conv_pw_2_relu (ReLU)        (None, None, None, 32)    0         \n",
      "_________________________________________________________________\n",
      "conv_dw_3 (DepthwiseConv2D)  (None, None, None, 32)    288       \n",
      "_________________________________________________________________\n",
      "conv_dw_3_bn (BatchNormaliza (None, None, None, 32)    128       \n",
      "_________________________________________________________________\n",
      "conv_dw_3_relu (ReLU)        (None, None, None, 32)    0         \n",
      "_________________________________________________________________\n",
      "conv_pw_3 (Conv2D)           (None, None, None, 32)    1024      \n",
      "_________________________________________________________________\n",
      "conv_pw_3_bn (BatchNormaliza (None, None, None, 32)    128       \n",
      "_________________________________________________________________\n",
      "conv_pw_3_relu (ReLU)        (None, None, None, 32)    0         \n",
      "_________________________________________________________________\n",
      "conv_pad_4 (ZeroPadding2D)   (None, None, None, 32)    0         \n",
      "_________________________________________________________________\n",
      "conv_dw_4 (DepthwiseConv2D)  (None, None, None, 32)    288       \n",
      "_________________________________________________________________\n",
      "conv_dw_4_bn (BatchNormaliza (None, None, None, 32)    128       \n",
      "_________________________________________________________________\n",
      "conv_dw_4_relu (ReLU)        (None, None, None, 32)    0         \n",
      "_________________________________________________________________\n",
      "conv_pw_4 (Conv2D)           (None, None, None, 64)    2048      \n",
      "_________________________________________________________________\n",
      "conv_pw_4_bn (BatchNormaliza (None, None, None, 64)    256       \n",
      "_________________________________________________________________\n",
      "conv_pw_4_relu (ReLU)        (None, None, None, 64)    0         \n",
      "_________________________________________________________________\n",
      "conv_dw_5 (DepthwiseConv2D)  (None, None, None, 64)    576       \n",
      "_________________________________________________________________\n",
      "conv_dw_5_bn (BatchNormaliza (None, None, None, 64)    256       \n",
      "_________________________________________________________________\n",
      "conv_dw_5_relu (ReLU)        (None, None, None, 64)    0         \n",
      "_________________________________________________________________\n",
      "conv_pw_5 (Conv2D)           (None, None, None, 64)    4096      \n",
      "_________________________________________________________________\n",
      "conv_pw_5_bn (BatchNormaliza (None, None, None, 64)    256       \n",
      "_________________________________________________________________\n",
      "conv_pw_5_relu (ReLU)        (None, None, None, 64)    0         \n",
      "_________________________________________________________________\n",
      "conv_pad_6 (ZeroPadding2D)   (None, None, None, 64)    0         \n",
      "_________________________________________________________________\n",
      "conv_dw_6 (DepthwiseConv2D)  (None, None, None, 64)    576       \n",
      "_________________________________________________________________\n",
      "conv_dw_6_bn (BatchNormaliza (None, None, None, 64)    256       \n",
      "_________________________________________________________________\n",
      "conv_dw_6_relu (ReLU)        (None, None, None, 64)    0         \n",
      "_________________________________________________________________\n",
      "conv_pw_6 (Conv2D)           (None, None, None, 128)   8192      \n",
      "_________________________________________________________________\n",
      "conv_pw_6_bn (BatchNormaliza (None, None, None, 128)   512       \n",
      "_________________________________________________________________\n",
      "conv_pw_6_relu (ReLU)        (None, None, None, 128)   0         \n",
      "_________________________________________________________________\n",
      "conv_dw_7 (DepthwiseConv2D)  (None, None, None, 128)   1152      \n",
      "_________________________________________________________________\n",
      "conv_dw_7_bn (BatchNormaliza (None, None, None, 128)   512       \n",
      "_________________________________________________________________\n",
      "conv_dw_7_relu (ReLU)        (None, None, None, 128)   0         \n",
      "_________________________________________________________________\n",
      "conv_pw_7 (Conv2D)           (None, None, None, 128)   16384     \n",
      "_________________________________________________________________\n",
      "conv_pw_7_bn (BatchNormaliza (None, None, None, 128)   512       \n",
      "_________________________________________________________________\n",
      "conv_pw_7_relu (ReLU)        (None, None, None, 128)   0         \n",
      "_________________________________________________________________\n",
      "conv_dw_8 (DepthwiseConv2D)  (None, None, None, 128)   1152      \n",
      "_________________________________________________________________\n",
      "conv_dw_8_bn (BatchNormaliza (None, None, None, 128)   512       \n",
      "_________________________________________________________________\n",
      "conv_dw_8_relu (ReLU)        (None, None, None, 128)   0         \n",
      "_________________________________________________________________\n",
      "conv_pw_8 (Conv2D)           (None, None, None, 128)   16384     \n",
      "_________________________________________________________________\n",
      "conv_pw_8_bn (BatchNormaliza (None, None, None, 128)   512       \n",
      "_________________________________________________________________\n",
      "conv_pw_8_relu (ReLU)        (None, None, None, 128)   0         \n",
      "_________________________________________________________________\n",
      "conv_dw_9 (DepthwiseConv2D)  (None, None, None, 128)   1152      \n",
      "_________________________________________________________________\n",
      "conv_dw_9_bn (BatchNormaliza (None, None, None, 128)   512       \n",
      "_________________________________________________________________\n",
      "conv_dw_9_relu (ReLU)        (None, None, None, 128)   0         \n",
      "_________________________________________________________________\n",
      "conv_pw_9 (Conv2D)           (None, None, None, 128)   16384     \n",
      "_________________________________________________________________\n",
      "conv_pw_9_bn (BatchNormaliza (None, None, None, 128)   512       \n",
      "_________________________________________________________________\n",
      "conv_pw_9_relu (ReLU)        (None, None, None, 128)   0         \n",
      "_________________________________________________________________\n",
      "conv_dw_10 (DepthwiseConv2D) (None, None, None, 128)   1152      \n",
      "_________________________________________________________________\n",
      "conv_dw_10_bn (BatchNormaliz (None, None, None, 128)   512       \n",
      "_________________________________________________________________\n",
      "conv_dw_10_relu (ReLU)       (None, None, None, 128)   0         \n",
      "_________________________________________________________________\n",
      "conv_pw_10 (Conv2D)          (None, None, None, 128)   16384     \n",
      "_________________________________________________________________\n",
      "conv_pw_10_bn (BatchNormaliz (None, None, None, 128)   512       \n",
      "_________________________________________________________________\n",
      "conv_pw_10_relu (ReLU)       (None, None, None, 128)   0         \n",
      "_________________________________________________________________\n",
      "conv_dw_11 (DepthwiseConv2D) (None, None, None, 128)   1152      \n",
      "_________________________________________________________________\n",
      "conv_dw_11_bn (BatchNormaliz (None, None, None, 128)   512       \n",
      "_________________________________________________________________\n",
      "conv_dw_11_relu (ReLU)       (None, None, None, 128)   0         \n",
      "_________________________________________________________________\n",
      "conv_pw_11 (Conv2D)          (None, None, None, 128)   16384     \n",
      "_________________________________________________________________\n",
      "conv_pw_11_bn (BatchNormaliz (None, None, None, 128)   512       \n",
      "_________________________________________________________________\n",
      "conv_pw_11_relu (ReLU)       (None, None, None, 128)   0         \n",
      "_________________________________________________________________\n",
      "conv_pad_12 (ZeroPadding2D)  (None, None, None, 128)   0         \n",
      "_________________________________________________________________\n",
      "conv_dw_12 (DepthwiseConv2D) (None, None, None, 128)   1152      \n",
      "_________________________________________________________________\n",
      "conv_dw_12_bn (BatchNormaliz (None, None, None, 128)   512       \n",
      "_________________________________________________________________\n",
      "conv_dw_12_relu (ReLU)       (None, None, None, 128)   0         \n",
      "_________________________________________________________________\n",
      "conv_pw_12 (Conv2D)          (None, None, None, 256)   32768     \n",
      "_________________________________________________________________\n",
      "conv_pw_12_bn (BatchNormaliz (None, None, None, 256)   1024      \n",
      "_________________________________________________________________\n",
      "conv_pw_12_relu (ReLU)       (None, None, None, 256)   0         \n",
      "_________________________________________________________________\n",
      "conv_dw_13 (DepthwiseConv2D) (None, None, None, 256)   2304      \n",
      "_________________________________________________________________\n",
      "conv_dw_13_bn (BatchNormaliz (None, None, None, 256)   1024      \n",
      "_________________________________________________________________\n",
      "conv_dw_13_relu (ReLU)       (None, None, None, 256)   0         \n",
      "_________________________________________________________________\n",
      "conv_pw_13 (Conv2D)          (None, None, None, 256)   65536     \n",
      "_________________________________________________________________\n",
      "conv_pw_13_bn (BatchNormaliz (None, None, None, 256)   1024      \n",
      "_________________________________________________________________\n",
      "conv_pw_13_relu (ReLU)       (None, None, None, 256)   0         \n",
      "_________________________________________________________________\n",
      "global_average_pooling2d (Gl (None, 256)               0         \n",
      "_________________________________________________________________\n",
      "reshape_1 (Reshape)          (None, 1, 1, 256)         0         \n",
      "_________________________________________________________________\n",
      "dropout (Dropout)            (None, 1, 1, 256)         0         \n",
      "_________________________________________________________________\n",
      "conv_preds (Conv2D)          (None, 1, 1, 8)           2056      \n",
      "_________________________________________________________________\n",
      "reshape_2 (Reshape)          (None, 8)                 0         \n",
      "_________________________________________________________________\n",
      "preds (Activation)           (None, 8)                 0         \n",
      "=================================================================\n",
      "Total params: 220,600\n",
      "Trainable params: 2,056\n",
      "Non-trainable params: 218,544\n",
      "_________________________________________________________________\n"
     ]
    }
   ],
   "source": [
    "new_model.summary()"
   ]
  },
  {
   "cell_type": "markdown",
   "metadata": {
    "id": "_1z4wis2c218"
   },
   "source": [
    "### Training"
   ]
  },
  {
   "cell_type": "code",
   "execution_count": 32,
   "metadata": {
    "colab": {
     "base_uri": "https://localhost:8080/"
    },
    "executionInfo": {
     "elapsed": 16405,
     "status": "ok",
     "timestamp": 1606178624383,
     "user": {
      "displayName": "Thomas da Silva Paula",
      "photoUrl": "https://lh3.googleusercontent.com/a-/AOh14Ghxdf5DCOozG7kNrIhME3slMTZxcBmU6l6RjxNVsg=s64",
      "userId": "04301567501049617182"
     },
     "user_tz": 180
    },
    "id": "-7g50IPtc355",
    "outputId": "b38ecc1e-2e58-4eb0-de63-af241d7fd001"
   },
   "outputs": [
    {
     "name": "stdout",
     "output_type": "stream",
     "text": [
      "Epoch 1/10\n",
      "18/18 [==============================] - 1s 58ms/step - loss: 2.1489 - accuracy: 0.2750 - val_loss: 1.4133 - val_accuracy: 0.5208\n",
      "Epoch 2/10\n",
      "18/18 [==============================] - 0s 24ms/step - loss: 1.0753 - accuracy: 0.6625 - val_loss: 0.7512 - val_accuracy: 0.8125\n",
      "Epoch 3/10\n",
      "18/18 [==============================] - 0s 24ms/step - loss: 0.5940 - accuracy: 0.8571 - val_loss: 0.4634 - val_accuracy: 0.9042\n",
      "Epoch 4/10\n",
      "18/18 [==============================] - 0s 23ms/step - loss: 0.3886 - accuracy: 0.9179 - val_loss: 0.3391 - val_accuracy: 0.9208\n",
      "Epoch 5/10\n",
      "18/18 [==============================] - 0s 24ms/step - loss: 0.2852 - accuracy: 0.9464 - val_loss: 0.2647 - val_accuracy: 0.9375\n",
      "Epoch 6/10\n",
      "18/18 [==============================] - 0s 23ms/step - loss: 0.2252 - accuracy: 0.9500 - val_loss: 0.2203 - val_accuracy: 0.9583\n",
      "Epoch 7/10\n",
      "18/18 [==============================] - 0s 23ms/step - loss: 0.1824 - accuracy: 0.9625 - val_loss: 0.1834 - val_accuracy: 0.9667\n",
      "Epoch 8/10\n",
      "18/18 [==============================] - 0s 22ms/step - loss: 0.1543 - accuracy: 0.9696 - val_loss: 0.1613 - val_accuracy: 0.9792\n",
      "Epoch 9/10\n",
      "18/18 [==============================] - 0s 22ms/step - loss: 0.1364 - accuracy: 0.9732 - val_loss: 0.1458 - val_accuracy: 0.9708\n",
      "Epoch 10/10\n",
      "18/18 [==============================] - 0s 22ms/step - loss: 0.1197 - accuracy: 0.9786 - val_loss: 0.1284 - val_accuracy: 0.9833\n"
     ]
    }
   ],
   "source": [
    "history = new_model.fit(X_train, y_train,\n",
    "                        validation_data=(X_test, y_test),\n",
    "                        batch_size=32,\n",
    "                        epochs=10)"
   ]
  },
  {
   "cell_type": "code",
   "execution_count": 33,
   "metadata": {
    "executionInfo": {
     "elapsed": 16405,
     "status": "ok",
     "timestamp": 1606178624384,
     "user": {
      "displayName": "Thomas da Silva Paula",
      "photoUrl": "https://lh3.googleusercontent.com/a-/AOh14Ghxdf5DCOozG7kNrIhME3slMTZxcBmU6l6RjxNVsg=s64",
      "userId": "04301567501049617182"
     },
     "user_tz": 180
    },
    "id": "xtukus7Ec9Hu"
   },
   "outputs": [],
   "source": [
    "new_model.save_weights('fine_tuning.h5')"
   ]
  },
  {
   "cell_type": "markdown",
   "metadata": {
    "id": "bZlmHqQUkRXz"
   },
   "source": [
    "### Downloading our model"
   ]
  },
  {
   "cell_type": "code",
   "execution_count": 34,
   "metadata": {
    "colab": {
     "base_uri": "https://localhost:8080/",
     "height": 17
    },
    "executionInfo": {
     "elapsed": 16404,
     "status": "ok",
     "timestamp": 1606178624385,
     "user": {
      "displayName": "Thomas da Silva Paula",
      "photoUrl": "https://lh3.googleusercontent.com/a-/AOh14Ghxdf5DCOozG7kNrIhME3slMTZxcBmU6l6RjxNVsg=s64",
      "userId": "04301567501049617182"
     },
     "user_tz": 180
    },
    "id": "6O6b96y9jL8B",
    "outputId": "72aa2a20-cfd2-4b9b-bc0d-73a1fc3f906d"
   },
   "outputs": [
    {
     "data": {
      "application/javascript": [
       "\n",
       "    async function download(id, filename, size) {\n",
       "      if (!google.colab.kernel.accessAllowed) {\n",
       "        return;\n",
       "      }\n",
       "      const div = document.createElement('div');\n",
       "      const label = document.createElement('label');\n",
       "      label.textContent = `Downloading \"${filename}\": `;\n",
       "      div.appendChild(label);\n",
       "      const progress = document.createElement('progress');\n",
       "      progress.max = size;\n",
       "      div.appendChild(progress);\n",
       "      document.body.appendChild(div);\n",
       "\n",
       "      const buffers = [];\n",
       "      let downloaded = 0;\n",
       "\n",
       "      const channel = await google.colab.kernel.comms.open(id);\n",
       "      // Send a message to notify the kernel that we're ready.\n",
       "      channel.send({})\n",
       "\n",
       "      for await (const message of channel.messages) {\n",
       "        // Send a message to notify the kernel that we're ready.\n",
       "        channel.send({})\n",
       "        if (message.buffers) {\n",
       "          for (const buffer of message.buffers) {\n",
       "            buffers.push(buffer);\n",
       "            downloaded += buffer.byteLength;\n",
       "            progress.value = downloaded;\n",
       "          }\n",
       "        }\n",
       "      }\n",
       "      const blob = new Blob(buffers, {type: 'application/binary'});\n",
       "      const a = document.createElement('a');\n",
       "      a.href = window.URL.createObjectURL(blob);\n",
       "      a.download = filename;\n",
       "      div.appendChild(a);\n",
       "      a.click();\n",
       "      div.remove();\n",
       "    }\n",
       "  "
      ],
      "text/plain": [
       "<IPython.core.display.Javascript object>"
      ]
     },
     "metadata": {
      "tags": []
     },
     "output_type": "display_data"
    },
    {
     "data": {
      "application/javascript": [
       "download(\"download_a500133c-5c07-49ce-8b6a-65bf89e3ed68\", \"fine_tuning.h5\", 1093672)"
      ],
      "text/plain": [
       "<IPython.core.display.Javascript object>"
      ]
     },
     "metadata": {
      "tags": []
     },
     "output_type": "display_data"
    }
   ],
   "source": [
    "from google.colab import files\n",
    "\n",
    "files.download('fine_tuning.h5')"
   ]
  },
  {
   "cell_type": "markdown",
   "metadata": {
    "id": "W2uCi8ncjMqb"
   },
   "source": [
    "### Evaluating our model"
   ]
  },
  {
   "cell_type": "code",
   "execution_count": 35,
   "metadata": {
    "executionInfo": {
     "elapsed": 16675,
     "status": "ok",
     "timestamp": 1606178624657,
     "user": {
      "displayName": "Thomas da Silva Paula",
      "photoUrl": "https://lh3.googleusercontent.com/a-/AOh14Ghxdf5DCOozG7kNrIhME3slMTZxcBmU6l6RjxNVsg=s64",
      "userId": "04301567501049617182"
     },
     "user_tz": 180
    },
    "id": "1o7YP3KfX5_0"
   },
   "outputs": [],
   "source": [
    "y_test_pred = new_model.predict(X_test, batch_size=32)"
   ]
  },
  {
   "cell_type": "code",
   "execution_count": 36,
   "metadata": {
    "colab": {
     "base_uri": "https://localhost:8080/"
    },
    "executionInfo": {
     "elapsed": 16669,
     "status": "ok",
     "timestamp": 1606178624658,
     "user": {
      "displayName": "Thomas da Silva Paula",
      "photoUrl": "https://lh3.googleusercontent.com/a-/AOh14Ghxdf5DCOozG7kNrIhME3slMTZxcBmU6l6RjxNVsg=s64",
      "userId": "04301567501049617182"
     },
     "user_tz": 180
    },
    "id": "kTOlN-b8jPVY",
    "outputId": "43640b49-0ee3-41f3-ad23-71f7a358d558"
   },
   "outputs": [
    {
     "name": "stdout",
     "output_type": "stream",
     "text": [
      "Before (240, 8) (240, 8)\n",
      "Example [0. 0. 0. 0. 1. 0. 0. 0.]\n",
      "\n",
      "After (240,) (240,)\n",
      "Example 4\n"
     ]
    }
   ],
   "source": [
    "print('Before', y_test.shape, y_test_pred.shape)\n",
    "print('Example', y_test[0])\n",
    "print('')\n",
    "\n",
    "y_test_int = np.argmax(y_test, axis=1)\n",
    "y_test_pred_int = np.argmax(y_test_pred, axis=1)\n",
    "\n",
    "print('After', y_test_int.shape, y_test_pred_int.shape)\n",
    "print('Example', y_test_int[0])"
   ]
  },
  {
   "cell_type": "code",
   "execution_count": 37,
   "metadata": {
    "colab": {
     "base_uri": "https://localhost:8080/"
    },
    "executionInfo": {
     "elapsed": 16663,
     "status": "ok",
     "timestamp": 1606178624658,
     "user": {
      "displayName": "Thomas da Silva Paula",
      "photoUrl": "https://lh3.googleusercontent.com/a-/AOh14Ghxdf5DCOozG7kNrIhME3slMTZxcBmU6l6RjxNVsg=s64",
      "userId": "04301567501049617182"
     },
     "user_tz": 180
    },
    "id": "13pR3RFAjQe5",
    "outputId": "c2c6cf19-8f5b-4f0b-e13d-f878c023c60e"
   },
   "outputs": [
    {
     "name": "stdout",
     "output_type": "stream",
     "text": [
      "              precision    recall  f1-score   support\n",
      "\n",
      "           0       1.00      1.00      1.00        35\n",
      "           1       1.00      1.00      1.00        21\n",
      "           2       0.97      1.00      0.99        34\n",
      "           3       0.93      0.93      0.93        30\n",
      "           4       1.00      0.97      0.98        32\n",
      "           5       1.00      1.00      1.00        29\n",
      "           6       1.00      0.97      0.98        32\n",
      "           7       0.96      1.00      0.98        27\n",
      "\n",
      "    accuracy                           0.98       240\n",
      "   macro avg       0.98      0.98      0.98       240\n",
      "weighted avg       0.98      0.98      0.98       240\n",
      "\n"
     ]
    }
   ],
   "source": [
    "print(classification_report(y_test_int, y_test_pred_int))"
   ]
  },
  {
   "cell_type": "code",
   "execution_count": 38,
   "metadata": {
    "colab": {
     "base_uri": "https://localhost:8080/"
    },
    "executionInfo": {
     "elapsed": 16658,
     "status": "ok",
     "timestamp": 1606178624659,
     "user": {
      "displayName": "Thomas da Silva Paula",
      "photoUrl": "https://lh3.googleusercontent.com/a-/AOh14Ghxdf5DCOozG7kNrIhME3slMTZxcBmU6l6RjxNVsg=s64",
      "userId": "04301567501049617182"
     },
     "user_tz": 180
    },
    "id": "Vsshc-3jjfg9",
    "outputId": "03dfd212-d68e-4f3f-92cb-ea8dce7e8556"
   },
   "outputs": [
    {
     "name": "stdout",
     "output_type": "stream",
     "text": [
      "['airplane' 'car' 'cat' 'dog' 'flower' 'fruit' 'motorbike' 'person']\n"
     ]
    }
   ],
   "source": [
    "classes = np.unique(labels)\n",
    "print(classes)"
   ]
  },
  {
   "cell_type": "code",
   "execution_count": 39,
   "metadata": {
    "colab": {
     "base_uri": "https://localhost:8080/",
     "height": 347
    },
    "executionInfo": {
     "elapsed": 17396,
     "status": "ok",
     "timestamp": 1606178625399,
     "user": {
      "displayName": "Thomas da Silva Paula",
      "photoUrl": "https://lh3.googleusercontent.com/a-/AOh14Ghxdf5DCOozG7kNrIhME3slMTZxcBmU6l6RjxNVsg=s64",
      "userId": "04301567501049617182"
     },
     "user_tz": 180
    },
    "id": "BsTW1dO4sB0f",
    "outputId": "b0fd6caa-f4b0-47ab-e91b-7d9eb15d274c"
   },
   "outputs": [
    {
     "data": {
      "text/plain": [
       "<matplotlib.axes._subplots.AxesSubplot at 0x7fd31e6266d8>"
      ]
     },
     "execution_count": 39,
     "metadata": {
      "tags": []
     },
     "output_type": "execute_result"
    },
    {
     "data": {
      "image/png": "[encoded data removed]",
      "text/plain": [
       "<Figure size 432x288 with 2 Axes>"
      ]
     },
     "metadata": {
      "tags": []
     },
     "output_type": "display_data"
    }
   ],
   "source": [
    "cm = confusion_matrix(y_test_int, y_test_pred_int)\n",
    "sns.set()\n",
    "plt.figure()\n",
    "plt.title('Test')\n",
    "sns.heatmap(cm, annot=True, yticklabels=classes, xticklabels=classes, cmap='Blues', fmt='d')"
   ]
  },
  {
   "cell_type": "code",
   "execution_count": 40,
   "metadata": {
    "colab": {
     "base_uri": "https://localhost:8080/",
     "height": 347
    },
    "executionInfo": {
     "elapsed": 17753,
     "status": "ok",
     "timestamp": 1606178625763,
     "user": {
      "displayName": "Thomas da Silva Paula",
      "photoUrl": "https://lh3.googleusercontent.com/a-/AOh14Ghxdf5DCOozG7kNrIhME3slMTZxcBmU6l6RjxNVsg=s64",
      "userId": "04301567501049617182"
     },
     "user_tz": 180
    },
    "id": "keX2oVezjShj",
    "outputId": "af3c4d0d-9092-462a-aa82-43b35f8c68ed"
   },
   "outputs": [
    {
     "data": {
      "text/plain": [
       "<matplotlib.axes._subplots.AxesSubplot at 0x7fd31e5b6470>"
      ]
     },
     "execution_count": 40,
     "metadata": {
      "tags": []
     },
     "output_type": "execute_result"
    },
    {
     "data": {
      "image/png": "[encoded data removed]",
      "text/plain": [
       "<Figure size 432x288 with 2 Axes>"
      ]
     },
     "metadata": {
      "tags": []
     },
     "output_type": "display_data"
    }
   ],
   "source": [
    "cm = confusion_matrix(y_test_int, y_test_pred_int)\n",
    "sns.set()\n",
    "plt.figure()\n",
    "plt.title('Test')\n",
    "sns.heatmap(cm, annot=True, yticklabels=classes, xticklabels=classes, cmap='Blues', fmt='d')"
   ]
  },
  {
   "cell_type": "markdown",
   "metadata": {
    "id": "96BzfSAMjpF0"
   },
   "source": [
    "### Testing predictions"
   ]
  },
  {
   "cell_type": "code",
   "execution_count": 41,
   "metadata": {
    "colab": {
     "base_uri": "https://localhost:8080/"
    },
    "executionInfo": {
     "elapsed": 18200,
     "status": "ok",
     "timestamp": 1606178626218,
     "user": {
      "displayName": "Thomas da Silva Paula",
      "photoUrl": "https://lh3.googleusercontent.com/a-/AOh14Ghxdf5DCOozG7kNrIhME3slMTZxcBmU6l6RjxNVsg=s64",
      "userId": "04301567501049617182"
     },
     "user_tz": 180
    },
    "id": "GS_jlUQQjqmk",
    "outputId": "28d39aaa-9c45-40ab-95e6-2128fa08ea9d"
   },
   "outputs": [
    {
     "name": "stdout",
     "output_type": "stream",
     "text": [
      "--2020-11-24 00:43:45--  https://upload.wikimedia.org/wikipedia/commons/thumb/2/20/PR-MBH_Airbus_A320_TAM_%287319491954%29.jpg/1280px-PR-MBH_Airbus_A320_TAM_%287319491954%29.jpg\n",
      "Resolving upload.wikimedia.org (upload.wikimedia.org)... 208.80.154.240, 2620:0:861:ed1a::2:b\n",
      "Connecting to upload.wikimedia.org (upload.wikimedia.org)|208.80.154.240|:443... connected.\n",
      "HTTP request sent, awaiting response... 200 OK\n",
      "Length: 192476 (188K) [image/jpeg]\n",
      "Saving to: ‘1280px-PR-MBH_Airbus_A320_TAM_(7319491954).jpg’\n",
      "\n",
      "\r",
      "          1280px-PR   0%[                    ]       0  --.-KB/s               \r",
      "1280px-PR-MBH_Airbu 100%[===================>] 187.96K  --.-KB/s    in 0.007s  \n",
      "\n",
      "2020-11-24 00:43:45 (28.1 MB/s) - ‘1280px-PR-MBH_Airbus_A320_TAM_(7319491954).jpg’ saved [192476/192476]\n",
      "\n"
     ]
    }
   ],
   "source": [
    "! wget https://upload.wikimedia.org/wikipedia/commons/thumb/2/20/PR-MBH_Airbus_A320_TAM_%287319491954%29.jpg/1280px-PR-MBH_Airbus_A320_TAM_%287319491954%29.jpg"
   ]
  },
  {
   "cell_type": "code",
   "execution_count": 42,
   "metadata": {
    "colab": {
     "base_uri": "https://localhost:8080/"
    },
    "executionInfo": {
     "elapsed": 18194,
     "status": "ok",
     "timestamp": 1606178626219,
     "user": {
      "displayName": "Thomas da Silva Paula",
      "photoUrl": "https://lh3.googleusercontent.com/a-/AOh14Ghxdf5DCOozG7kNrIhME3slMTZxcBmU6l6RjxNVsg=s64",
      "userId": "04301567501049617182"
     },
     "user_tz": 180
    },
    "id": "fxhOgedBj1cB",
    "outputId": "ef0a0473-dcdd-40f0-b1ba-63f4da287edf"
   },
   "outputs": [
    {
     "name": "stdout",
     "output_type": "stream",
     "text": [
      "total 1.3M\n",
      "-rw-r--r-- 1 root root 188K Jul 25  2019 '1280px-PR-MBH_Airbus_A320_TAM_(7319491954).jpg'\n",
      "-rw-r--r-- 1 root root 1.1M Nov 24 00:43  fine_tuning.h5\n",
      "drwx------ 5 root root 4.0K Nov 24 00:37  gdrive\n",
      "drwxr-xr-x 1 root root 4.0K Nov 13 17:33  sample_data\n"
     ]
    }
   ],
   "source": [
    "!ls -lh"
   ]
  },
  {
   "cell_type": "code",
   "execution_count": 43,
   "metadata": {
    "colab": {
     "base_uri": "https://localhost:8080/",
     "height": 288
    },
    "executionInfo": {
     "elapsed": 19000,
     "status": "ok",
     "timestamp": 1606178627032,
     "user": {
      "displayName": "Thomas da Silva Paula",
      "photoUrl": "https://lh3.googleusercontent.com/a-/AOh14Ghxdf5DCOozG7kNrIhME3slMTZxcBmU6l6RjxNVsg=s64",
      "userId": "04301567501049617182"
     },
     "user_tz": 180
    },
    "id": "ula6ebGwkD-N",
    "outputId": "72352b3e-bcaa-4d8a-ebfa-2c91929706d1"
   },
   "outputs": [
    {
     "data": {
      "text/plain": [
       "<matplotlib.image.AxesImage at 0x7fd31e355ef0>"
      ]
     },
     "execution_count": 43,
     "metadata": {
      "tags": []
     },
     "output_type": "execute_result"
    },
    {
     "data": {
      "image/png": "[encoded data removed]",
      "text/plain": [
       "<Figure size 432x288 with 1 Axes>"
      ]
     },
     "metadata": {
      "tags": []
     },
     "output_type": "display_data"
    }
   ],
   "source": [
    "img_path = '1280px-PR-MBH_Airbus_A320_TAM_(7319491954).jpg'\n",
    "img = image.load_img(img_path, target_size=(224, 224))\n",
    "plt.imshow(img)"
   ]
  },
  {
   "cell_type": "code",
   "execution_count": 44,
   "metadata": {
    "colab": {
     "base_uri": "https://localhost:8080/"
    },
    "executionInfo": {
     "elapsed": 18993,
     "status": "ok",
     "timestamp": 1606178627033,
     "user": {
      "displayName": "Thomas da Silva Paula",
      "photoUrl": "https://lh3.googleusercontent.com/a-/AOh14Ghxdf5DCOozG7kNrIhME3slMTZxcBmU6l6RjxNVsg=s64",
      "userId": "04301567501049617182"
     },
     "user_tz": 180
    },
    "id": "y2TcdX7tkJXD",
    "outputId": "4609aff5-b207-4e2e-d798-4e9262b3ab05"
   },
   "outputs": [
    {
     "name": "stdout",
     "output_type": "stream",
     "text": [
      "(224, 224, 3)\n"
     ]
    }
   ],
   "source": [
    "img = image.img_to_array(img)\n",
    "img = preprocess_input(img)\n",
    "\n",
    "print(img.shape)"
   ]
  },
  {
   "cell_type": "code",
   "execution_count": 45,
   "metadata": {
    "colab": {
     "base_uri": "https://localhost:8080/"
    },
    "executionInfo": {
     "elapsed": 18986,
     "status": "ok",
     "timestamp": 1606178627033,
     "user": {
      "displayName": "Thomas da Silva Paula",
      "photoUrl": "https://lh3.googleusercontent.com/a-/AOh14Ghxdf5DCOozG7kNrIhME3slMTZxcBmU6l6RjxNVsg=s64",
      "userId": "04301567501049617182"
     },
     "user_tz": 180
    },
    "id": "Zg66VuAUkKbp",
    "outputId": "409e6696-0bbf-4121-a705-aedf1abf7d06"
   },
   "outputs": [
    {
     "name": "stdout",
     "output_type": "stream",
     "text": [
      "[[9.6954054e-01 1.0675243e-02 5.8782278e-03 5.5402587e-03 6.8423566e-03\n",
      "  6.2716822e-04 2.7410735e-04 6.2213262e-04]]\n"
     ]
    }
   ],
   "source": [
    "preds = new_model.predict(np.expand_dims(img, axis=0))\n",
    "print(preds)"
   ]
  },
  {
   "cell_type": "code",
   "execution_count": 46,
   "metadata": {
    "colab": {
     "base_uri": "https://localhost:8080/",
     "height": 285
    },
    "executionInfo": {
     "elapsed": 18979,
     "status": "ok",
     "timestamp": 1606178627033,
     "user": {
      "displayName": "Thomas da Silva Paula",
      "photoUrl": "https://lh3.googleusercontent.com/a-/AOh14Ghxdf5DCOozG7kNrIhME3slMTZxcBmU6l6RjxNVsg=s64",
      "userId": "04301567501049617182"
     },
     "user_tz": 180
    },
    "id": "ZaxZBPjNkLrg",
    "outputId": "0ad1b626-682b-4170-ad76-e8fb62f329f4"
   },
   "outputs": [
    {
     "data": {
      "text/plain": [
       "<BarContainer object of 8 artists>"
      ]
     },
     "execution_count": 46,
     "metadata": {
      "tags": []
     },
     "output_type": "execute_result"
    },
    {
     "data": {
      "image/png": "[encoded data removed]",
      "text/plain": [
       "<Figure size 432x288 with 1 Axes>"
      ]
     },
     "metadata": {
      "tags": []
     },
     "output_type": "display_data"
    }
   ],
   "source": [
    "plt.bar(np.arange(0, len(preds[0])), preds[0], tick_label=classes)"
   ]
  }
 ],
 "metadata": {
  "accelerator": "GPU",
  "colab": {
   "authorship_tag": "ABX9TyPb5ozq+xK30dYt5kXLt6m7",
   "name": "4.1._fine_tuning_keras.ipynb",
   "provenance": []
  },
  "kernelspec": {
   "display_name": "Python 3",
   "language": "python",
   "name": "python3"
  },
  "language_info": {
   "codemirror_mode": {
    "name": "ipython",
    "version": 3
   },
   "file_extension": ".py",
   "mimetype": "text/x-python",
   "name": "python",
   "nbconvert_exporter": "python",
   "pygments_lexer": "ipython3",
   "version": "3.7.6"
  }
 },
 "nbformat": 4,
 "nbformat_minor": 1
}
