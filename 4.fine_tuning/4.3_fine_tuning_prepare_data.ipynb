{
 "cells": [
  {
   "cell_type": "markdown",
   "metadata": {},
   "source": [
    "## Deep Learning Applied to Images - Fine-tuning\n",
    "\n",
    "#### Prof. Thomas da Silva Paula"
   ]
  },
  {
   "cell_type": "markdown",
   "metadata": {},
   "source": [
    "### Preparing Stanford dogs dataset for fine-tuning\n",
    "\n",
    "* Using Stanford dogs dataset (http://vision.stanford.edu/aditya86/ImageNetDogs/)\n",
    "* To be used as a reference"
   ]
  },
  {
   "cell_type": "markdown",
   "metadata": {},
   "source": [
    "### Imports"
   ]
  },
  {
   "cell_type": "code",
   "execution_count": 11,
   "metadata": {},
   "outputs": [],
   "source": [
    "import os\n",
    "import shutil\n",
    "import scipy.io as sio\n",
    "\n",
    "from tqdm import *"
   ]
  },
  {
   "cell_type": "markdown",
   "metadata": {},
   "source": [
    "### Imports"
   ]
  },
  {
   "cell_type": "code",
   "execution_count": 2,
   "metadata": {},
   "outputs": [],
   "source": [
    "train_path = '/datasets/thomas/datasets/stanford_dogs/train_list.mat'\n",
    "test_path = '/datasets/thomas/datasets/stanford_dogs/test_list.mat'\n",
    "src_imgs_path = '/datasets/thomas/datasets/stanford_dogs/Images/'\n",
    "train_dest_path = '/datasets/thomas/datasets/stanford_dogs/train/'\n",
    "test_dest_path = '/datasets/thomas/datasets/stanford_dogs/test/'"
   ]
  },
  {
   "cell_type": "markdown",
   "metadata": {},
   "source": [
    "### Loading .mat file with scipy"
   ]
  },
  {
   "cell_type": "code",
   "execution_count": 3,
   "metadata": {},
   "outputs": [],
   "source": [
    "train = sio.loadmat(train_path)\n",
    "test = sio.loadmat(test_path)"
   ]
  },
  {
   "cell_type": "markdown",
   "metadata": {},
   "source": [
    "### Method to create folders for each class"
   ]
  },
  {
   "cell_type": "code",
   "execution_count": 12,
   "metadata": {},
   "outputs": [],
   "source": [
    "def generate_data(data, dest_path, src_path):\n",
    "    for f in tqdm(data['file_list']):\n",
    "        folder, img = f[0][0].split('/')\n",
    "        \n",
    "        dest = os.path.join(dest_path, folder)\n",
    "        if not os.path.exists(dest):\n",
    "            os.makedirs(dest)\n",
    "            \n",
    "        dest = os.path.join(dest, img)\n",
    "        src = os.path.join(src_path, folder, img)\n",
    "        \n",
    "        shutil.copy(src, dest)"
   ]
  },
  {
   "cell_type": "markdown",
   "metadata": {},
   "source": [
    "### Generate train and test folders"
   ]
  },
  {
   "cell_type": "code",
   "execution_count": 13,
   "metadata": {},
   "outputs": [
    {
     "name": "stderr",
     "output_type": "stream",
     "text": [
      "100%|██████████| 12000/12000 [00:01<00:00, 6181.12it/s]\n"
     ]
    }
   ],
   "source": [
    "generate_data(train, train_dest_path, src_imgs_path)"
   ]
  },
  {
   "cell_type": "code",
   "execution_count": 14,
   "metadata": {},
   "outputs": [
    {
     "name": "stderr",
     "output_type": "stream",
     "text": [
      "100%|██████████| 8580/8580 [00:01<00:00, 6199.06it/s]\n"
     ]
    }
   ],
   "source": [
    "generate_data(test, test_dest_path, src_imgs_path)"
   ]
  }
 ],
 "metadata": {
  "kernelspec": {
   "display_name": "Python 3",
   "language": "python",
   "name": "python3"
  },
  "language_info": {
   "codemirror_mode": {
    "name": "ipython",
    "version": 3
   },
   "file_extension": ".py",
   "mimetype": "text/x-python",
   "name": "python",
   "nbconvert_exporter": "python",
   "pygments_lexer": "ipython3",
   "version": "3.7.6"
  }
 },
 "nbformat": 4,
 "nbformat_minor": 4
}
